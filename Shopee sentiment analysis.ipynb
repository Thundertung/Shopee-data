{
 "cells": [
  {
   "cell_type": "code",
   "execution_count": 6,
   "metadata": {},
   "outputs": [],
   "source": [
    "#!pip install pandas \n",
    "#!pip install pythainlp\n",
    "#!pip install openpyxl"
   ]
  },
  {
   "cell_type": "code",
   "execution_count": 2,
   "metadata": {},
   "outputs": [],
   "source": [
    "import pandas as pd "
   ]
  },
  {
   "cell_type": "code",
   "execution_count": 18,
   "metadata": {},
   "outputs": [],
   "source": [
    "df = pd.read_excel('shopee-data.xlsx',sheet_name = 'ต้นฉบับ')"
   ]
  },
  {
   "cell_type": "code",
   "execution_count": 26,
   "metadata": {},
   "outputs": [],
   "source": [
    "keyword_list=[]\n",
    "for i in set(df.keyword.tolist()):\n",
    "    keyword_list.append(i)"
   ]
  },
  {
   "cell_type": "code",
   "execution_count": 63,
   "metadata": {},
   "outputs": [],
   "source": [
    "first_batch = pd.DataFrame(df.keyword.value_counts()).index[:].tolist()"
   ]
  },
  {
   "cell_type": "code",
   "execution_count": 72,
   "metadata": {},
   "outputs": [
    {
     "data": {
      "text/plain": [
       "(5198, 11)"
      ]
     },
     "execution_count": 72,
     "metadata": {},
     "output_type": "execute_result"
    }
   ],
   "source": [
    "prod0.shape"
   ]
  },
  {
   "cell_type": "code",
   "execution_count": 69,
   "metadata": {},
   "outputs": [],
   "source": [
    "prod0 =  df.loc[df.keyword == first_batch[3]].iloc[:1000,:]\n",
    "for i in first_batch[3:8]:\n",
    "    prod1 =df.loc[df.keyword == i].iloc[:1000,:]\n",
    "    prod0 = pd.concat([prod0,prod1])"
   ]
  },
  {
   "cell_type": "code",
   "execution_count": 73,
   "metadata": {},
   "outputs": [],
   "source": [
    "prod0.to_excel('shopee-data_firstbatch1.xlsx')"
   ]
  },
  {
   "cell_type": "code",
   "execution_count": 65,
   "metadata": {},
   "outputs": [
    {
     "data": {
      "text/plain": [
       "5    49559\n",
       "4     8612\n",
       "3     1408\n",
       "1      306\n",
       "2      196\n",
       "Name: star, dtype: int64"
      ]
     },
     "execution_count": 65,
     "metadata": {},
     "output_type": "execute_result"
    }
   ],
   "source": [
    "df.star.value_counts()"
   ]
  },
  {
   "cell_type": "code",
   "execution_count": 70,
   "metadata": {},
   "outputs": [
    {
     "data": {
      "text/plain": [
       "5    4652\n",
       "4     439\n",
       "3      75\n",
       "2      17\n",
       "1      15\n",
       "Name: star, dtype: int64"
      ]
     },
     "execution_count": 70,
     "metadata": {},
     "output_type": "execute_result"
    }
   ],
   "source": [
    "prod0.star.value_counts()"
   ]
  },
  {
   "cell_type": "code",
   "execution_count": 71,
   "metadata": {},
   "outputs": [
    {
     "data": {
      "text/html": [
       "<div>\n",
       "<style scoped>\n",
       "    .dataframe tbody tr th:only-of-type {\n",
       "        vertical-align: middle;\n",
       "    }\n",
       "\n",
       "    .dataframe tbody tr th {\n",
       "        vertical-align: top;\n",
       "    }\n",
       "\n",
       "    .dataframe thead th {\n",
       "        text-align: right;\n",
       "    }\n",
       "</style>\n",
       "<table border=\"1\" class=\"dataframe\">\n",
       "  <thead>\n",
       "    <tr style=\"text-align: right;\">\n",
       "      <th></th>\n",
       "      <th>Unnamed: 0</th>\n",
       "      <th>keyword</th>\n",
       "      <th>link</th>\n",
       "      <th>name</th>\n",
       "      <th>authur</th>\n",
       "      <th>sell_price</th>\n",
       "      <th>content</th>\n",
       "      <th>timepost</th>\n",
       "      <th>star</th>\n",
       "      <th>shopname</th>\n",
       "      <th>chatrate</th>\n",
       "    </tr>\n",
       "  </thead>\n",
       "  <tbody>\n",
       "    <tr>\n",
       "      <th>16340</th>\n",
       "      <td>16340</td>\n",
       "      <td>Vichy Normaderm Phytosolution Daily Care 50 กรัม</td>\n",
       "      <td>https://shopee.co.th/%E0%B8%A7%E0%B8%B4%E0%B8%...</td>\n",
       "      <td>วิชี่ vichy normaderm phytosolution daily care...</td>\n",
       "      <td>b*****o</td>\n",
       "      <td>1092</td>\n",
       "      <td>ส่งเร็วมาก ได้coin ด้วย  ดีมากอะ ส่วนเรื่องผลิ...</td>\n",
       "      <td>2021-10-22 07:09</td>\n",
       "      <td>5</td>\n",
       "      <td>vichy_official_shop</td>\n",
       "      <td>100%</td>\n",
       "    </tr>\n",
       "    <tr>\n",
       "      <th>16341</th>\n",
       "      <td>16341</td>\n",
       "      <td>Vichy Normaderm Phytosolution Daily Care 50 กรัม</td>\n",
       "      <td>https://shopee.co.th/%E0%B8%A7%E0%B8%B4%E0%B8%...</td>\n",
       "      <td>วิชี่ vichy normaderm phytosolution daily care...</td>\n",
       "      <td>ongtoey</td>\n",
       "      <td>1092</td>\n",
       "      <td>ปกติเป็นคนหน้ามันมากค่ะ ผิวผสม ก็จะลองไปเรื่อย...</td>\n",
       "      <td>2021-10-21 23:19</td>\n",
       "      <td>5</td>\n",
       "      <td>vichy_official_shop</td>\n",
       "      <td>100%</td>\n",
       "    </tr>\n",
       "    <tr>\n",
       "      <th>16342</th>\n",
       "      <td>16342</td>\n",
       "      <td>Vichy Normaderm Phytosolution Daily Care 50 กรัม</td>\n",
       "      <td>https://shopee.co.th/%E0%B8%A7%E0%B8%B4%E0%B8%...</td>\n",
       "      <td>วิชี่ vichy normaderm phytosolution daily care...</td>\n",
       "      <td>fonnannaphatsone</td>\n",
       "      <td>1092</td>\n",
       "      <td>ได้รับสินค้าครบถ้วนแล้วค่ะ สินค้ามีคุณภาพ คุ้ม...</td>\n",
       "      <td>2021-10-21 16:37</td>\n",
       "      <td>5</td>\n",
       "      <td>vichy_official_shop</td>\n",
       "      <td>100%</td>\n",
       "    </tr>\n",
       "    <tr>\n",
       "      <th>16343</th>\n",
       "      <td>16343</td>\n",
       "      <td>Vichy Normaderm Phytosolution Daily Care 50 กรัม</td>\n",
       "      <td>https://shopee.co.th/%E0%B8%A7%E0%B8%B4%E0%B8%...</td>\n",
       "      <td>วิชี่ vichy normaderm phytosolution daily care...</td>\n",
       "      <td>ameisemod</td>\n",
       "      <td>1092</td>\n",
       "      <td>ตัวนี้ยังไม่เคยใช้ เคยใช้แต่ตัวสเปรย์ลดมันกับ ...</td>\n",
       "      <td>2021-10-19 13:41</td>\n",
       "      <td>5</td>\n",
       "      <td>vichy_official_shop</td>\n",
       "      <td>100%</td>\n",
       "    </tr>\n",
       "    <tr>\n",
       "      <th>16344</th>\n",
       "      <td>16344</td>\n",
       "      <td>Vichy Normaderm Phytosolution Daily Care 50 กรัม</td>\n",
       "      <td>https://shopee.co.th/%E0%B8%A7%E0%B8%B4%E0%B8%...</td>\n",
       "      <td>วิชี่ vichy normaderm phytosolution daily care...</td>\n",
       "      <td>butaoil</td>\n",
       "      <td>1092</td>\n",
       "      <td>ทางร้านจัดส่งรวดเร็วมากค่ะมีความคุ้มค่าคุ้มราค...</td>\n",
       "      <td>2021-10-20 13:56</td>\n",
       "      <td>5</td>\n",
       "      <td>vichy_official_shop</td>\n",
       "      <td>100%</td>\n",
       "    </tr>\n",
       "    <tr>\n",
       "      <th>...</th>\n",
       "      <td>...</td>\n",
       "      <td>...</td>\n",
       "      <td>...</td>\n",
       "      <td>...</td>\n",
       "      <td>...</td>\n",
       "      <td>...</td>\n",
       "      <td>...</td>\n",
       "      <td>...</td>\n",
       "      <td>...</td>\n",
       "      <td>...</td>\n",
       "      <td>...</td>\n",
       "    </tr>\n",
       "    <tr>\n",
       "      <th>16239</th>\n",
       "      <td>16239</td>\n",
       "      <td>SK-II R.N.A. POWER Airy Milky Lotion 80 กรัม</td>\n",
       "      <td>https://shopee.co.th/SK-II-Facial-Treatment-Es...</td>\n",
       "      <td>SK-II Facial Treatment Essence</td>\n",
       "      <td>p*****n</td>\n",
       "      <td>679</td>\n",
       "      <td>สินค้าดี แต่ขนส่งแย่มาก  กล่องขาดจนของข้างในแท...</td>\n",
       "      <td>2020-07-18 13:55</td>\n",
       "      <td>3</td>\n",
       "      <td>berryloft</td>\n",
       "      <td>93%</td>\n",
       "    </tr>\n",
       "    <tr>\n",
       "      <th>16240</th>\n",
       "      <td>16240</td>\n",
       "      <td>SK-II R.N.A. POWER Airy Milky Lotion 80 กรัม</td>\n",
       "      <td>https://shopee.co.th/SK-II-Facial-Treatment-Es...</td>\n",
       "      <td>SK-II Facial Treatment Essence</td>\n",
       "      <td>n*****l</td>\n",
       "      <td>679</td>\n",
       "      <td>ราคาดี แม่ค้าน่ารัก\\nสั่งมาลองใช้ดูค่ะ ผลลัพธ์...</td>\n",
       "      <td>2021-02-26 21:05</td>\n",
       "      <td>5</td>\n",
       "      <td>berryloft</td>\n",
       "      <td>93%</td>\n",
       "    </tr>\n",
       "    <tr>\n",
       "      <th>16241</th>\n",
       "      <td>16241</td>\n",
       "      <td>SK-II R.N.A. POWER Airy Milky Lotion 80 กรัม</td>\n",
       "      <td>https://shopee.co.th/SK-II-Facial-Treatment-Es...</td>\n",
       "      <td>SK-II Facial Treatment Essence</td>\n",
       "      <td>weenapankawong</td>\n",
       "      <td>679</td>\n",
       "      <td>แท้คะ ส่งเร็วเวอร์</td>\n",
       "      <td>2021-10-29 00:11</td>\n",
       "      <td>5</td>\n",
       "      <td>berryloft</td>\n",
       "      <td>93%</td>\n",
       "    </tr>\n",
       "    <tr>\n",
       "      <th>16242</th>\n",
       "      <td>16242</td>\n",
       "      <td>SK-II R.N.A. POWER Airy Milky Lotion 80 กรัม</td>\n",
       "      <td>https://shopee.co.th/SK-II-Facial-Treatment-Es...</td>\n",
       "      <td>SK-II Facial Treatment Essence</td>\n",
       "      <td>narinpicha</td>\n",
       "      <td>679</td>\n",
       "      <td>ส่งเร็วมาก แล้วจะอุดหนุนอีก👍🏻</td>\n",
       "      <td>2021-09-10 21:59</td>\n",
       "      <td>5</td>\n",
       "      <td>berryloft</td>\n",
       "      <td>93%</td>\n",
       "    </tr>\n",
       "    <tr>\n",
       "      <th>16243</th>\n",
       "      <td>16243</td>\n",
       "      <td>SK-II R.N.A. POWER Airy Milky Lotion 80 กรัม</td>\n",
       "      <td>https://shopee.co.th/SK-II-Facial-Treatment-Es...</td>\n",
       "      <td>SK-II Facial Treatment Essence</td>\n",
       "      <td>c*****t</td>\n",
       "      <td>679</td>\n",
       "      <td>ส่งสินค้าได้รวดเร็ว</td>\n",
       "      <td>2020-10-15 13:36</td>\n",
       "      <td>5</td>\n",
       "      <td>berryloft</td>\n",
       "      <td>93%</td>\n",
       "    </tr>\n",
       "  </tbody>\n",
       "</table>\n",
       "<p>5198 rows × 11 columns</p>\n",
       "</div>"
      ],
      "text/plain": [
       "       Unnamed: 0                                           keyword  \\\n",
       "16340       16340  Vichy Normaderm Phytosolution Daily Care 50 กรัม   \n",
       "16341       16341  Vichy Normaderm Phytosolution Daily Care 50 กรัม   \n",
       "16342       16342  Vichy Normaderm Phytosolution Daily Care 50 กรัม   \n",
       "16343       16343  Vichy Normaderm Phytosolution Daily Care 50 กรัม   \n",
       "16344       16344  Vichy Normaderm Phytosolution Daily Care 50 กรัม   \n",
       "...           ...                                               ...   \n",
       "16239       16239      SK-II R.N.A. POWER Airy Milky Lotion 80 กรัม   \n",
       "16240       16240      SK-II R.N.A. POWER Airy Milky Lotion 80 กรัม   \n",
       "16241       16241      SK-II R.N.A. POWER Airy Milky Lotion 80 กรัม   \n",
       "16242       16242      SK-II R.N.A. POWER Airy Milky Lotion 80 กรัม   \n",
       "16243       16243      SK-II R.N.A. POWER Airy Milky Lotion 80 กรัม   \n",
       "\n",
       "                                                    link  \\\n",
       "16340  https://shopee.co.th/%E0%B8%A7%E0%B8%B4%E0%B8%...   \n",
       "16341  https://shopee.co.th/%E0%B8%A7%E0%B8%B4%E0%B8%...   \n",
       "16342  https://shopee.co.th/%E0%B8%A7%E0%B8%B4%E0%B8%...   \n",
       "16343  https://shopee.co.th/%E0%B8%A7%E0%B8%B4%E0%B8%...   \n",
       "16344  https://shopee.co.th/%E0%B8%A7%E0%B8%B4%E0%B8%...   \n",
       "...                                                  ...   \n",
       "16239  https://shopee.co.th/SK-II-Facial-Treatment-Es...   \n",
       "16240  https://shopee.co.th/SK-II-Facial-Treatment-Es...   \n",
       "16241  https://shopee.co.th/SK-II-Facial-Treatment-Es...   \n",
       "16242  https://shopee.co.th/SK-II-Facial-Treatment-Es...   \n",
       "16243  https://shopee.co.th/SK-II-Facial-Treatment-Es...   \n",
       "\n",
       "                                                    name            authur  \\\n",
       "16340  วิชี่ vichy normaderm phytosolution daily care...           b*****o   \n",
       "16341  วิชี่ vichy normaderm phytosolution daily care...           ongtoey   \n",
       "16342  วิชี่ vichy normaderm phytosolution daily care...  fonnannaphatsone   \n",
       "16343  วิชี่ vichy normaderm phytosolution daily care...         ameisemod   \n",
       "16344  วิชี่ vichy normaderm phytosolution daily care...           butaoil   \n",
       "...                                                  ...               ...   \n",
       "16239                     SK-II Facial Treatment Essence           p*****n   \n",
       "16240                     SK-II Facial Treatment Essence           n*****l   \n",
       "16241                     SK-II Facial Treatment Essence    weenapankawong   \n",
       "16242                     SK-II Facial Treatment Essence        narinpicha   \n",
       "16243                     SK-II Facial Treatment Essence           c*****t   \n",
       "\n",
       "       sell_price                                            content  \\\n",
       "16340        1092  ส่งเร็วมาก ได้coin ด้วย  ดีมากอะ ส่วนเรื่องผลิ...   \n",
       "16341        1092  ปกติเป็นคนหน้ามันมากค่ะ ผิวผสม ก็จะลองไปเรื่อย...   \n",
       "16342        1092  ได้รับสินค้าครบถ้วนแล้วค่ะ สินค้ามีคุณภาพ คุ้ม...   \n",
       "16343        1092  ตัวนี้ยังไม่เคยใช้ เคยใช้แต่ตัวสเปรย์ลดมันกับ ...   \n",
       "16344        1092  ทางร้านจัดส่งรวดเร็วมากค่ะมีความคุ้มค่าคุ้มราค...   \n",
       "...           ...                                                ...   \n",
       "16239         679  สินค้าดี แต่ขนส่งแย่มาก  กล่องขาดจนของข้างในแท...   \n",
       "16240         679  ราคาดี แม่ค้าน่ารัก\\nสั่งมาลองใช้ดูค่ะ ผลลัพธ์...   \n",
       "16241         679                                 แท้คะ ส่งเร็วเวอร์   \n",
       "16242         679                      ส่งเร็วมาก แล้วจะอุดหนุนอีก👍🏻   \n",
       "16243         679                                ส่งสินค้าได้รวดเร็ว   \n",
       "\n",
       "               timepost  star             shopname chatrate  \n",
       "16340  2021-10-22 07:09     5  vichy_official_shop     100%  \n",
       "16341  2021-10-21 23:19     5  vichy_official_shop     100%  \n",
       "16342  2021-10-21 16:37     5  vichy_official_shop     100%  \n",
       "16343  2021-10-19 13:41     5  vichy_official_shop     100%  \n",
       "16344  2021-10-20 13:56     5  vichy_official_shop     100%  \n",
       "...                 ...   ...                  ...      ...  \n",
       "16239  2020-07-18 13:55     3            berryloft      93%  \n",
       "16240  2021-02-26 21:05     5            berryloft      93%  \n",
       "16241  2021-10-29 00:11     5            berryloft      93%  \n",
       "16242  2021-09-10 21:59     5            berryloft      93%  \n",
       "16243  2020-10-15 13:36     5            berryloft      93%  \n",
       "\n",
       "[5198 rows x 11 columns]"
      ]
     },
     "execution_count": 71,
     "metadata": {},
     "output_type": "execute_result"
    }
   ],
   "source": [
    "prod0"
   ]
  },
  {
   "cell_type": "code",
   "execution_count": null,
   "metadata": {},
   "outputs": [],
   "source": []
  }
 ],
 "metadata": {
  "kernelspec": {
   "display_name": "Python 3 (ipykernel)",
   "language": "python",
   "name": "python3"
  },
  "language_info": {
   "codemirror_mode": {
    "name": "ipython",
    "version": 3
   },
   "file_extension": ".py",
   "mimetype": "text/x-python",
   "name": "python",
   "nbconvert_exporter": "python",
   "pygments_lexer": "ipython3",
   "version": "3.7.7"
  }
 },
 "nbformat": 4,
 "nbformat_minor": 4
}
